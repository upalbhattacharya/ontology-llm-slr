{
 "cells": [
  {
   "cell_type": "markdown",
   "id": "e41f9d3f-98f6-457c-865f-2824ef9e2204",
   "metadata": {},
   "source": [
    "# First Search Interactive Features DataFrame Population"
   ]
  },
  {
   "cell_type": "code",
   "execution_count": 1,
   "id": "b16fef93-30c8-4189-89e7-5616e949c0d5",
   "metadata": {},
   "outputs": [],
   "source": [
    "import polars as pl"
   ]
  },
  {
   "cell_type": "code",
   "execution_count": 12,
   "id": "06e8bd17-f7ca-4b03-8531-1df4c3b63b64",
   "metadata": {},
   "outputs": [],
   "source": [
    "df_schema = pl.Schema({\n",
    "    \"ID\": pl.String(),\n",
    "    \"Title\": pl.String(),\n",
    "    \"LLM\": pl.List(pl.String()),\n",
    "    \"Ontology\": pl.List(pl.String()),\n",
    "    \"Major/Minor\": pl.Enum([\"Major\", \"Minor\"]),\n",
    "    \"Enrichment Task\": pl.List(pl.String())\n",
    "})"
   ]
  },
  {
   "cell_type": "code",
   "execution_count": 13,
   "id": "ef027b79-9326-4561-baa8-db499ef45e2d",
   "metadata": {},
   "outputs": [
    {
     "data": {
      "text/plain": [
       "Schema([('ID', String),\n",
       "        ('Title', String),\n",
       "        ('LLM', List(String)),\n",
       "        ('Ontology', List(String)),\n",
       "        ('Major/Minor', Enum(categories=['Major', 'Minor'])),\n",
       "        ('Enrichment Task', List(String))])"
      ]
     },
     "execution_count": 13,
     "metadata": {},
     "output_type": "execute_result"
    }
   ],
   "source": [
    "df_schema"
   ]
  },
  {
   "cell_type": "code",
   "execution_count": 17,
   "id": "82695c39-83e0-4752-b161-990ab46e6991",
   "metadata": {},
   "outputs": [],
   "source": [
    "df = df_schema.to_frame()"
   ]
  },
  {
   "cell_type": "code",
   "execution_count": 20,
   "id": "96c10592-063b-4b1e-bba8-6042d36fce71",
   "metadata": {},
   "outputs": [],
   "source": [
    "has_eval_dict = {\n",
    "    \"Yes\": True,\n",
    "    \"No\": False,\n",
    "}"
   ]
  },
  {
   "cell_type": "code",
   "execution_count": 28,
   "id": "a3ab0540-24d9-4e0c-b946-9c2ae3938ed1",
   "metadata": {},
   "outputs": [],
   "source": [
    "df_raw = pl.read_csv(\"/home/upal/Downloads/Private & Shared/first_features.csv\",\n",
    "            infer_schema=False)"
   ]
  },
  {
   "cell_type": "code",
   "execution_count": 29,
   "id": "c6880f9f-5d46-44eb-8957-6455faf2833a",
   "metadata": {},
   "outputs": [
    {
     "data": {
      "text/html": [
       "<div><style>\n",
       ".dataframe > thead > tr,\n",
       ".dataframe > tbody > tr {\n",
       "  text-align: right;\n",
       "  white-space: pre-wrap;\n",
       "}\n",
       "</style>\n",
       "<small>shape: (1, 8)</small><table border=\"1\" class=\"dataframe\"><thead><tr><th>ID</th><th>Has Evaluation</th><th>Key</th><th>LLM</th><th>Major/Minor</th><th>Ontology</th><th>Ontology Engineering Task</th><th>Title</th></tr><tr><td>str</td><td>str</td><td>str</td><td>str</td><td>str</td><td>str</td><td>str</td><td>str</td></tr></thead><tbody><tr><td>&quot;FS-001&quot;</td><td>&quot;False&quot;</td><td>&quot;abdelmageed2023BiodivbertPreTr…</td><td>&quot;GPT-4o, Llama3-80B&quot;</td><td>&quot;Minor&quot;</td><td>&quot;SNOMED-CT, Uberon&quot;</td><td>&quot;Ontology Population, Subsumpti…</td><td>&quot;BiodivBERT: a Pre-Trained Lang…</td></tr></tbody></table></div>"
      ],
      "text/plain": [
       "shape: (1, 8)\n",
       "┌────────┬────────────┬────────────┬────────────┬────────────┬────────────┬────────────┬───────────┐\n",
       "│ ID     ┆ Has        ┆ Key        ┆ LLM        ┆ Major/Mino ┆ Ontology   ┆ Ontology   ┆ Title     │\n",
       "│ ---    ┆ Evaluation ┆ ---        ┆ ---        ┆ r          ┆ ---        ┆ Engineerin ┆ ---       │\n",
       "│ str    ┆ ---        ┆ str        ┆ str        ┆ ---        ┆ str        ┆ g Task     ┆ str       │\n",
       "│        ┆ str        ┆            ┆            ┆ str        ┆            ┆ ---        ┆           │\n",
       "│        ┆            ┆            ┆            ┆            ┆            ┆ str        ┆           │\n",
       "╞════════╪════════════╪════════════╪════════════╪════════════╪════════════╪════════════╪═══════════╡\n",
       "│ FS-001 ┆ False      ┆ abdelmagee ┆ GPT-4o,    ┆ Minor      ┆ SNOMED-CT, ┆ Ontology   ┆ BiodivBER │\n",
       "│        ┆            ┆ d2023Biodi ┆ Llama3-80B ┆            ┆ Uberon     ┆ Population ┆ T: a Pre- │\n",
       "│        ┆            ┆ vbertPreTr ┆            ┆            ┆            ┆ ,          ┆ Trained   │\n",
       "│        ┆            ┆ …          ┆            ┆            ┆            ┆ Subsumpti… ┆ Lang…     │\n",
       "└────────┴────────────┴────────────┴────────────┴────────────┴────────────┴────────────┴───────────┘"
      ]
     },
     "execution_count": 29,
     "metadata": {},
     "output_type": "execute_result"
    }
   ],
   "source": [
    "df_raw"
   ]
  },
  {
   "cell_type": "code",
   "execution_count": 42,
   "id": "a960c989-b9c0-4fde-bf93-007ab8f386ac",
   "metadata": {},
   "outputs": [],
   "source": [
    "df = df_raw.with_columns(\n",
    "    pl.col(\"Has Evaluation\").replace_strict({\"False\": False, \"True\": True}),\n",
    "    pl.col(\"LLM\").str.split(\",\").cast(pl.List(pl.String())),\n",
    "    pl.col(\"Ontology\").str.split(\",\").cast(pl.List(pl.String())),\n",
    "    pl.col(\"Ontology Engineering Task\").str.split(\",\").cast(pl.List(pl.String()))\n",
    ")"
   ]
  },
  {
   "cell_type": "code",
   "execution_count": 43,
   "id": "24d9c5aa-fa24-42c0-a9e1-54d5ebf7fadd",
   "metadata": {},
   "outputs": [
    {
     "data": {
      "text/html": [
       "<div><style>\n",
       ".dataframe > thead > tr,\n",
       ".dataframe > tbody > tr {\n",
       "  text-align: right;\n",
       "  white-space: pre-wrap;\n",
       "}\n",
       "</style>\n",
       "<small>shape: (1, 8)</small><table border=\"1\" class=\"dataframe\"><thead><tr><th>ID</th><th>Has Evaluation</th><th>Key</th><th>LLM</th><th>Major/Minor</th><th>Ontology</th><th>Ontology Engineering Task</th><th>Title</th></tr><tr><td>str</td><td>bool</td><td>str</td><td>list[str]</td><td>str</td><td>list[str]</td><td>list[str]</td><td>str</td></tr></thead><tbody><tr><td>&quot;FS-001&quot;</td><td>false</td><td>&quot;abdelmageed2023BiodivbertPreTr…</td><td>[&quot;GPT-4o&quot;, &quot; Llama3-80B&quot;]</td><td>&quot;Minor&quot;</td><td>[&quot;SNOMED-CT&quot;, &quot; Uberon&quot;]</td><td>[&quot;Ontology Population&quot;, &quot; Subsumption Inference&quot;]</td><td>&quot;BiodivBERT: a Pre-Trained Lang…</td></tr></tbody></table></div>"
      ],
      "text/plain": [
       "shape: (1, 8)\n",
       "┌────────┬────────────┬────────────┬────────────┬────────────┬────────────┬────────────┬───────────┐\n",
       "│ ID     ┆ Has        ┆ Key        ┆ LLM        ┆ Major/Mino ┆ Ontology   ┆ Ontology   ┆ Title     │\n",
       "│ ---    ┆ Evaluation ┆ ---        ┆ ---        ┆ r          ┆ ---        ┆ Engineerin ┆ ---       │\n",
       "│ str    ┆ ---        ┆ str        ┆ list[str]  ┆ ---        ┆ list[str]  ┆ g Task     ┆ str       │\n",
       "│        ┆ bool       ┆            ┆            ┆ str        ┆            ┆ ---        ┆           │\n",
       "│        ┆            ┆            ┆            ┆            ┆            ┆ list[str]  ┆           │\n",
       "╞════════╪════════════╪════════════╪════════════╪════════════╪════════════╪════════════╪═══════════╡\n",
       "│ FS-001 ┆ false      ┆ abdelmagee ┆ [\"GPT-4o\", ┆ Minor      ┆ [\"SNOMED-C ┆ [\"Ontology ┆ BiodivBER │\n",
       "│        ┆            ┆ d2023Biodi ┆ \" Llama3-8 ┆            ┆ T\", \"      ┆ Population ┆ T: a Pre- │\n",
       "│        ┆            ┆ vbertPreTr ┆ 0B\"]       ┆            ┆ Uberon\"]   ┆ \", \" Subs… ┆ Trained   │\n",
       "│        ┆            ┆ …          ┆            ┆            ┆            ┆            ┆ Lang…     │\n",
       "└────────┴────────────┴────────────┴────────────┴────────────┴────────────┴────────────┴───────────┘"
      ]
     },
     "execution_count": 43,
     "metadata": {},
     "output_type": "execute_result"
    }
   ],
   "source": [
    "df"
   ]
  },
  {
   "cell_type": "code",
   "execution_count": null,
   "id": "a129e39c-e2bf-4a45-b5da-31b382d1e6e9",
   "metadata": {},
   "outputs": [],
   "source": []
  }
 ],
 "metadata": {
  "kernelspec": {
   "display_name": "Python 3 (ipykernel)",
   "language": "python",
   "name": "python3"
  },
  "language_info": {
   "codemirror_mode": {
    "name": "ipython",
    "version": 3
   },
   "file_extension": ".py",
   "mimetype": "text/x-python",
   "name": "python",
   "nbconvert_exporter": "python",
   "pygments_lexer": "ipython3",
   "version": "3.12.8"
  }
 },
 "nbformat": 4,
 "nbformat_minor": 5
}
